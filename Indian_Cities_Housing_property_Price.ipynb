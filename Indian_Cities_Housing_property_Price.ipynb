{
  "nbformat": 4,
  "nbformat_minor": 0,
  "metadata": {
    "colab": {
      "provenance": [],
      "authorship_tag": "ABX9TyNIjSiAmU6Sk3KOpxehrjGn",
      "include_colab_link": true
    },
    "kernelspec": {
      "name": "python3",
      "display_name": "Python 3"
    },
    "language_info": {
      "name": "python"
    }
  },
  "cells": [
    {
      "cell_type": "markdown",
      "metadata": {
        "id": "view-in-github",
        "colab_type": "text"
      },
      "source": [
        "<a href=\"https://colab.research.google.com/github/Krishnabhuvan/Indian-Cities-Housing-property-Price/blob/main/Indian_Cities_Housing_property_Price.ipynb\" target=\"_parent\"><img src=\"https://colab.research.google.com/assets/colab-badge.svg\" alt=\"Open In Colab\"/></a>"
      ]
    },
    {
      "cell_type": "code",
      "execution_count": null,
      "metadata": {
        "id": "R_3N7lgUhyDV"
      },
      "outputs": [],
      "source": [
        "import pandas as pd\n",
        "import matplotlib.pyplot as plt\n",
        "import numpy as np\n",
        "import seaborn as sns"
      ]
    },
    {
      "cell_type": "code",
      "source": [
        "df = pd.read_csv('/content/Makaan_Properties_Buy.csv',encoding = \"latin-1\", delimiter=',', low_memory=False)"
      ],
      "metadata": {
        "id": "AeSyEYq8jmnj"
      },
      "execution_count": null,
      "outputs": []
    },
    {
      "cell_type": "code",
      "source": [
        "X = df[[\"Property_type\",\"Property_status\",\"Price_per_unit_area\",\"Posted_On\",\"Property_building_status\",\n",
        "       \"City_name\",\"No_of_BHK\",\"Size\",\"is_furnished\",\"Price\"]]\n",
        "\n",
        "y = X[[\"Price\"]]"
      ],
      "metadata": {
        "id": "g0xO_YiMj-KX"
      },
      "execution_count": null,
      "outputs": []
    },
    {
      "cell_type": "code",
      "source": [
        "X.sample(10)"
      ],
      "metadata": {
        "id": "gnZbb8EfkRi5"
      },
      "execution_count": null,
      "outputs": []
    },
    {
      "cell_type": "code",
      "source": [
        "X.shape"
      ],
      "metadata": {
        "id": "41fPwjvdkyN_"
      },
      "execution_count": null,
      "outputs": []
    },
    {
      "cell_type": "code",
      "source": [
        "X.isnull().sum()"
      ],
      "metadata": {
        "id": "4fMM9TA_leAW"
      },
      "execution_count": null,
      "outputs": []
    },
    {
      "cell_type": "code",
      "source": [
        "X.dropna(inplace=True)"
      ],
      "metadata": {
        "id": "wTHj_TsSlgGa"
      },
      "execution_count": null,
      "outputs": []
    },
    {
      "cell_type": "code",
      "source": [
        "X.info()"
      ],
      "metadata": {
        "id": "8SqnTnogluVn"
      },
      "execution_count": null,
      "outputs": []
    },
    {
      "cell_type": "markdown",
      "source": [
        "MAPPING-VALUES"
      ],
      "metadata": {
        "id": "karmyK8gmDD8"
      }
    },
    {
      "cell_type": "code",
      "source": [
        "df[\"Property_building_status\"].value_counts()"
      ],
      "metadata": {
        "id": "0jikFaOLl45v"
      },
      "execution_count": null,
      "outputs": []
    },
    {
      "cell_type": "code",
      "source": [
        "dict = {\n",
        "    \"UNVERIFIED\" : 0,\n",
        "    \"ACTIVE\":1,\n",
        "    \"INACTIVE\":2\n",
        "}\n",
        "X['Property_building_status'] = df['Property_building_status'].map(dict)"
      ],
      "metadata": {
        "id": "CereqSh0lxu2"
      },
      "execution_count": null,
      "outputs": []
    },
    {
      "cell_type": "code",
      "source": [
        "df['Property_type'].value_counts()"
      ],
      "metadata": {
        "id": "LjqWLhq3m10j"
      },
      "execution_count": null,
      "outputs": []
    },
    {
      "cell_type": "code",
      "source": [
        "dict = {\n",
        "    \"Apartment\":0,\n",
        "    \"Independent Floor\":1,\n",
        "    \"Independent House\":2,\n",
        "    \"Penthouse\":3,\n",
        "    \"Studio Apartment\":4,\n",
        "}\n",
        "X['Property_type'] = df['Property_type'].map(dict)"
      ],
      "metadata": {
        "id": "MG3pa5yWm8wQ"
      },
      "execution_count": null,
      "outputs": []
    },
    {
      "cell_type": "code",
      "source": [
        "df[\"Property_status\"].value_counts()\n"
      ],
      "metadata": {
        "id": "dnMmaeJfvOge"
      },
      "execution_count": null,
      "outputs": []
    },
    {
      "cell_type": "code",
      "source": [
        "dict = {\n",
        "    \"Ready to move\" : 0,\n",
        "    \"Under Construction\" : 1\n",
        "}\n",
        "X['Property_status'] = df['Property_status'].map(dict)"
      ],
      "metadata": {
        "id": "Kq_SS8RlvFPv"
      },
      "execution_count": null,
      "outputs": []
    },
    {
      "cell_type": "code",
      "source": [
        "df[\"is_furnished\"].value_counts()"
      ],
      "metadata": {
        "id": "YWIHeL3SnPwq"
      },
      "execution_count": null,
      "outputs": []
    },
    {
      "cell_type": "code",
      "source": [
        "dict = {\n",
        "    \"Unfurnished\":0,\n",
        "    \"Semi-Furnished\":1,\n",
        "    \"Furnished\":2\n",
        "}\n",
        "X['is_furnished'] = df['is_furnished'].map(dict)\n"
      ],
      "metadata": {
        "id": "7hBK3dO3nT5C"
      },
      "execution_count": null,
      "outputs": []
    },
    {
      "cell_type": "code",
      "source": [
        "df[\"City_name\"].value_counts()"
      ],
      "metadata": {
        "id": "jKms0JTinaxJ"
      },
      "execution_count": null,
      "outputs": []
    },
    {
      "cell_type": "code",
      "source": [
        "dict = {\n",
        "    \"Mumbai\" : 0,\n",
        "    \"Chennai\" : 1,\n",
        "    \"Hyderabad\" : 2,\n",
        "    \"Bangalore\" : 3,\n",
        "    \"Lucknow\" : 4,\n",
        "    \"Delhi\" : 5,\n",
        "    \"Kolkata\" : 6,\n",
        "    \"Ahmedabad\" : 7\n",
        "}\n",
        "\n",
        "X['City_name'] = df['City_name'].map(dict)"
      ],
      "metadata": {
        "id": "0bsTPTqfng9Q"
      },
      "execution_count": null,
      "outputs": []
    },
    {
      "cell_type": "markdown",
      "source": [
        "Splitting"
      ],
      "metadata": {
        "id": "dpZ73_lInzL8"
      }
    },
    {
      "cell_type": "code",
      "source": [
        "X[\"Posted_days_ago\"] = X[\"Posted_On\"].str.split(\" \").str[0].str.replace(\"a\",\"1\").str.replace(\"an\",\"3\").str.replace(\"1n\",\"1\")\n",
        "X = X.drop(columns=[\"Posted_On\"],axis = 1)"
      ],
      "metadata": {
        "id": "RA3rZo7Znnn4"
      },
      "execution_count": null,
      "outputs": []
    },
    {
      "cell_type": "code",
      "source": [
        "X[\"Size\"] = X[\"Size\"].str.split(\" \").str[0]"
      ],
      "metadata": {
        "id": "cY3w01X-pETx"
      },
      "execution_count": null,
      "outputs": []
    },
    {
      "cell_type": "code",
      "source": [
        "X[\"No_of_BHK\"] = X[\"No_of_BHK\"].str.split(\" \").str[0]"
      ],
      "metadata": {
        "id": "cywSuQtjpP_4"
      },
      "execution_count": null,
      "outputs": []
    },
    {
      "cell_type": "markdown",
      "source": [
        "Feature scaling"
      ],
      "metadata": {
        "id": "ZiAhCLMxpmOc"
      }
    },
    {
      "cell_type": "code",
      "source": [
        "from sklearn.model_selection import train_test_split\n",
        "from sklearn.preprocessing import StandardScaler"
      ],
      "metadata": {
        "id": "Rx9xPuHgplAv"
      },
      "execution_count": null,
      "outputs": []
    },
    {
      "cell_type": "code",
      "source": [
        "X[\"Property_type\"] = X[\"Property_type\"].fillna(0).astype(int)"
      ],
      "metadata": {
        "id": "KPaw0Ofr1Y1r"
      },
      "execution_count": null,
      "outputs": []
    },
    {
      "cell_type": "code",
      "source": [
        "X.head()"
      ],
      "metadata": {
        "id": "ibDuwjsQpyPK"
      },
      "execution_count": null,
      "outputs": []
    },
    {
      "cell_type": "markdown",
      "source": [
        "data cleaning"
      ],
      "metadata": {
        "id": "lXBz7xcXroFc"
      }
    },
    {
      "cell_type": "code",
      "source": [
        "import nltk\n",
        "from nltk.tokenize import word_tokenize\n",
        "#data cleaning - both columns\n",
        "def clean_value(value):\n",
        "  return value.replace(',','').replace(' ','')\n",
        "\n",
        "columns_to_clean = [\"Price_per_unit_area\",\"Size\"]\n",
        "for col in columns_to_clean:\n",
        "  X[col] = X[col].apply(clean_value)\n"
      ],
      "metadata": {
        "id": "rghWdiiSp0Lk"
      },
      "execution_count": null,
      "outputs": []
    },
    {
      "cell_type": "markdown",
      "source": [
        "Data preprocessing"
      ],
      "metadata": {
        "id": "4FofHEiKrjZt"
      }
    },
    {
      "cell_type": "code",
      "source": [
        "#Convert text values into real numeric values\n",
        "X[\"Price_per_unit_area\"] = X[\"Price_per_unit_area\"].astype(float)\n",
        "X[\"No_of_BHK\"]=X[\"No_of_BHK\"].astype(int)\n",
        "X[\"Size\"]=X[\"Size\"].astype(int)\n",
        "# Drop rows with missing values in 'Posted_days_ago' before converting to int\n",
        "X.dropna(subset=['Posted_days_ago'], inplace=True)\n",
        "X[\"Posted_days_ago\"] = X[\"Posted_days_ago\"].astype(int)"
      ],
      "metadata": {
        "id": "T9cW2i-BqX-W"
      },
      "execution_count": null,
      "outputs": []
    },
    {
      "cell_type": "code",
      "source": [
        "y = X[[\"Price\"]]\n",
        "y.head(2)"
      ],
      "metadata": {
        "id": "4MNy8XSwrpSk"
      },
      "execution_count": null,
      "outputs": []
    },
    {
      "cell_type": "code",
      "source": [
        "import nltk\n",
        "from nltk.tokenize import word_tokenize\n",
        "def clean_value(value):\n",
        "    return value.replace(',', '').replace(' ', '')\n",
        "\n",
        "# Apply cleaning function to the specified columns\n",
        "columns_to_clean = [\"Price\"]\n",
        "for col in columns_to_clean:\n",
        "    y[col] = y[col].apply(clean_value)\n",
        "\n",
        "\n",
        "y[\"Price\"] = y[\"Price\"].astype(float)"
      ],
      "metadata": {
        "id": "rPo2b-2SrzqX"
      },
      "execution_count": null,
      "outputs": []
    },
    {
      "cell_type": "code",
      "source": [
        "X.head()"
      ],
      "metadata": {
        "id": "xGAAuLcLr8Np"
      },
      "execution_count": null,
      "outputs": []
    },
    {
      "cell_type": "code",
      "source": [
        "X.info()"
      ],
      "metadata": {
        "id": "9h2-pqSksB1x"
      },
      "execution_count": null,
      "outputs": []
    },
    {
      "cell_type": "code",
      "source": [
        "X.isnull().sum()"
      ],
      "metadata": {
        "id": "1XYPyRgysGAm"
      },
      "execution_count": null,
      "outputs": []
    },
    {
      "cell_type": "code",
      "source": [],
      "metadata": {
        "id": "iDx7K_bEzr0g"
      },
      "execution_count": null,
      "outputs": []
    },
    {
      "cell_type": "code",
      "source": [
        "X = X.drop(columns=[\"Price\"])"
      ],
      "metadata": {
        "id": "blI-l2EosQmF"
      },
      "execution_count": null,
      "outputs": []
    },
    {
      "cell_type": "code",
      "source": [
        "X.head()\n"
      ],
      "metadata": {
        "id": "6P2ldL7n1v2z"
      },
      "execution_count": null,
      "outputs": []
    },
    {
      "cell_type": "code",
      "source": [
        "X_train, X_test, y_train, y_test = train_test_split(X,y, test_size = 0.2, random_state = 42)"
      ],
      "metadata": {
        "id": "XW1HS4iUxzhl"
      },
      "execution_count": null,
      "outputs": []
    },
    {
      "cell_type": "code",
      "source": [
        "scaler = StandardScaler()\n",
        "scaler.fit(X_train)\n",
        "\n",
        "X_train_scaled = scaler.transform(X_train)\n",
        "X_test_scaled = scaler.transform(X_test)"
      ],
      "metadata": {
        "id": "aK7KAmDvx1MT"
      },
      "execution_count": null,
      "outputs": []
    },
    {
      "cell_type": "code",
      "source": [
        "X_train_scaled\n"
      ],
      "metadata": {
        "id": "lYvjADS1x3Vp"
      },
      "execution_count": null,
      "outputs": []
    },
    {
      "cell_type": "code",
      "source": [
        "y_train.head(1)\n"
      ],
      "metadata": {
        "id": "SNo4YWYSx44A"
      },
      "execution_count": null,
      "outputs": []
    },
    {
      "cell_type": "code",
      "source": [
        "import tensorflow as tf\n",
        "from tensorflow import keras\n",
        "from keras import Sequential\n",
        "from keras.layers import Dense,Dropout,BatchNormalization"
      ],
      "metadata": {
        "id": "M4OITqnax736"
      },
      "execution_count": null,
      "outputs": []
    },
    {
      "cell_type": "code",
      "source": [
        "clf = Sequential()\n",
        "\n",
        "clf.add(Dense(units=512, kernel_initializer=\"he_normal\", activation=\"relu\", input_dim=9))\n",
        "clf.add(Dropout(0.2))\n",
        "\n",
        "clf.add(Dense(units=412, kernel_initializer=\"he_normal\", activation=\"relu\"))\n",
        "clf.add(Dropout(0.3))\n",
        "\n",
        "clf.add(Dense(units=350, kernel_initializer=\"he_normal\", activation=\"relu\"))\n",
        "clf.add(Dropout(0.3))\n",
        "\n",
        "clf.add(Dense(units=250, kernel_initializer=\"he_normal\", activation=\"relu\"))\n",
        "clf.add(Dropout(0.2))\n",
        "\n",
        "clf.add(Dense(units=100, kernel_initializer=\"he_normal\", activation=\"relu\"))\n",
        "clf.add(Dropout(0.2))\n",
        "\n",
        "clf.add(Dense(units=1, activation=\"linear\"))\n",
        "\n",
        "\n",
        "clf.compile(optimizer=\"adam\", loss=\"mean_squared_logarithmic_error\", metrics=[tf.keras.metrics.RootMeanSquaredError()])\n",
        "clf.summary()\n",
        "\n",
        "history = clf.fit(X_train_scaled, y_train, validation_data=(X_test_scaled, y_test), batch_size=100, epochs=70)\n"
      ],
      "metadata": {
        "id": "uCRrASNVx-_C"
      },
      "execution_count": null,
      "outputs": []
    },
    {
      "cell_type": "code",
      "source": [
        "from sklearn.metrics import r2_score\n",
        "\n",
        "y_pred = clf.predict(X_test_scaled)\n",
        "\n",
        "r2_score(y_test, y_pred)"
      ],
      "metadata": {
        "id": "ZwOc8MhlyFL2"
      },
      "execution_count": null,
      "outputs": []
    },
    {
      "cell_type": "code",
      "source": [
        "plt.plot(history.history[\"root_mean_squared_error\"])\n",
        "plt.plot(history.history[\"val_root_mean_squared_error\"])"
      ],
      "metadata": {
        "id": "w0MnDrGmE_CG"
      },
      "execution_count": null,
      "outputs": []
    },
    {
      "cell_type": "code",
      "source": [
        "plt.plot(history.history[\"loss\"])\n",
        "plt.plot(history.history[\"val_loss\"])"
      ],
      "metadata": {
        "id": "E2SQtcdNFWjB"
      },
      "execution_count": null,
      "outputs": []
    },
    {
      "cell_type": "code",
      "source": [
        "import pickle\n",
        "from keras.models import load_model\n",
        "\n",
        "with open('buy_model.pickle', 'wb') as f:\n",
        "    pickle.dump(clf, f)\n",
        "\n",
        "clf.save('buy_model.h5')"
      ],
      "metadata": {
        "id": "n0X2_vIXFaJO"
      },
      "execution_count": null,
      "outputs": []
    },
    {
      "cell_type": "code",
      "source": [
        "import pandas as pd"
      ],
      "metadata": {
        "id": "v9zrpECeH4F4"
      },
      "execution_count": null,
      "outputs": []
    },
    {
      "cell_type": "code",
      "source": [
        "pf = pd.read_csv(r'/content/Makaan_Properties_Buy.csv', encoding='latin-1')"
      ],
      "metadata": {
        "id": "ZPSqTWfzFgV2"
      },
      "execution_count": null,
      "outputs": []
    },
    {
      "cell_type": "code",
      "source": [
        "pip install ydata-profiling\n"
      ],
      "metadata": {
        "id": "EzkcVfoNHH_9"
      },
      "execution_count": null,
      "outputs": []
    },
    {
      "cell_type": "code",
      "source": [
        "from ydata_profiling import ProfileReport\n",
        "prof = ProfileReport(pf)\n",
        "prof.to_file('output.html')\n",
        ""
      ],
      "metadata": {
        "id": "CcPR3--yHWLM"
      },
      "execution_count": null,
      "outputs": []
    },
    {
      "cell_type": "code",
      "source": [],
      "metadata": {
        "id": "X-ZHASUAHaLc"
      },
      "execution_count": null,
      "outputs": []
    }
  ]
}